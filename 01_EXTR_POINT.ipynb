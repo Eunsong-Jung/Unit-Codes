{
 "cells": [
  {
   "cell_type": "code",
   "execution_count": 1,
   "id": "331858fb-f06a-4fd3-9130-bb5666fa0e16",
   "metadata": {},
   "outputs": [],
   "source": [
    "import pandas as pd, numpy as np\n",
    "\n",
    "data = pd.read_excel('C:/Users/eunsong/Documents/NIER/Collected.xlsx', index_col=0)\n",
    "\n",
    "for site in set(data.Site):\n",
    "    site_df = data[data.Site == site]\n",
    "    site_df = site_df.set_index(site_df['Date'])\n",
    "    \n",
    "    cols=[]\n",
    "    for col in site_df.columns:\n",
    "        if 'Date' not in col and 'Site' not in col:\n",
    "            cols.append(col)\n",
    "    site_df = site_df[cols]\n",
    "    site_df.to_csv('../02_POINT_DATA/%s.csv'%site, index=True)"
   ]
  },
  {
   "cell_type": "code",
   "execution_count": null,
   "id": "178c964e-a476-49a8-ba1d-c4d11571aaa5",
   "metadata": {},
   "outputs": [],
   "source": []
  }
 ],
 "metadata": {
  "kernelspec": {
   "display_name": "Python 3 (ipykernel)",
   "language": "python",
   "name": "python3"
  },
  "language_info": {
   "codemirror_mode": {
    "name": "ipython",
    "version": 3
   },
   "file_extension": ".py",
   "mimetype": "text/x-python",
   "name": "python",
   "nbconvert_exporter": "python",
   "pygments_lexer": "ipython3",
   "version": "3.9.12"
  }
 },
 "nbformat": 4,
 "nbformat_minor": 5
}
