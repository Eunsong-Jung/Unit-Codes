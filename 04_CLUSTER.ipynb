{
 "cells": [
  {
   "cell_type": "code",
   "execution_count": 42,
   "id": "bc3cb224-10db-45fa-9483-34c0fb2c31f7",
   "metadata": {},
   "outputs": [],
   "source": [
    "import glob, os, pandas as pd, numpy as np\n",
    "from tslearn.metrics import soft_dtw, dtw\n",
    "from tslearn.clustering import TimeSeriesKMeans"
   ]
  },
  {
   "cell_type": "code",
   "execution_count": 2,
   "id": "74e098a3-251e-4d10-9898-10f8148e983d",
   "metadata": {},
   "outputs": [],
   "source": [
    "data_list = glob.glob('../03_VARS_DATA/*.csv')"
   ]
  },
  {
   "cell_type": "code",
   "execution_count": 58,
   "id": "507f9876-e655-459b-aa02-d55eb91b63ec",
   "metadata": {},
   "outputs": [],
   "source": [
    "def get_dtw(in_data, method, variable_nms):\n",
    "\n",
    "    rst_dtw = np.zeros((in_data.shape[1], in_data.shape[1]))\n",
    "\n",
    "    col_nms, var_set, clu_method = [], [], []\n",
    "    \n",
    "    for i in range(in_data.shape[1]):\n",
    "        col_nms.append(in_data.columns[i].split('_')[-1])\n",
    "        var_set.append(variable_nms)\n",
    "        clu_method.append(method)\n",
    "        \n",
    "        if 'DTW' == method:\n",
    "            \n",
    "            for j in range(in_data.shape[1]):\n",
    "                rst_dtw[i,j] = dtw(in_data.iloc[:,i], in_data.iloc[:,j])\n",
    "        \n",
    "        elif 'SOFT_DTW' == method:\n",
    "            \n",
    "            for j in range(in_data.shape[1]):\n",
    "                rst_dtw[i,j] = soft_dtw(in_data.iloc[:,i], in_data.iloc[:,j])\n",
    "\n",
    "    rst_dtw_df = pd.DataFrame(rst_dtw)\n",
    "    rst_dtw_df.columns = col_nms\n",
    "    rst_dtw_df.index   = [var_set, clu_method, col_nms]\n",
    "    \n",
    "    return rst_dtw_df"
   ]
  },
  {
   "cell_type": "code",
   "execution_count": 84,
   "id": "c578f591-2f4a-4138-a8f0-edea7a5be388",
   "metadata": {},
   "outputs": [
    {
     "name": "stdout",
     "output_type": "stream",
     "text": [
      "        AT  ::  ../03_VARS_DATA\\AT.csv\n",
      "    AT_Max  ::  ../03_VARS_DATA\\AT_Max.csv\n",
      "    AT_Min  ::  ../03_VARS_DATA\\AT_Min.csv\n",
      "       BOD  ::  ../03_VARS_DATA\\BOD.csv\n",
      "    CH_Ave  ::  ../03_VARS_DATA\\CH_Ave.csv\n",
      "    CH_Top  ::  ../03_VARS_DATA\\CH_Top.csv\n",
      "       COD  ::  ../03_VARS_DATA\\COD.csv\n",
      "    CY_Dom  ::  ../03_VARS_DATA\\CY_Dom.csv\n",
      "       DOC  ::  ../03_VARS_DATA\\DOC.csv\n",
      "       DTN  ::  ../03_VARS_DATA\\DTN.csv\n",
      "       DTP  ::  ../03_VARS_DATA\\DTP.csv\n",
      "        EC  ::  ../03_VARS_DATA\\EC.csv\n",
      "     ECOLI  ::  ../03_VARS_DATA\\ECOLI.csv\n",
      "        FR  ::  ../03_VARS_DATA\\FR.csv\n",
      "        GS  ::  ../03_VARS_DATA\\GS.csv\n",
      "       MIB  ::  ../03_VARS_DATA\\MIB.csv\n",
      "      NH3N  ::  ../03_VARS_DATA\\NH3N.csv\n",
      "      NO3N  ::  ../03_VARS_DATA\\NO3N.csv\n",
      "        PH  ::  ../03_VARS_DATA\\PH.csv\n",
      "        RA  ::  ../03_VARS_DATA\\RA.csv\n",
      "        SS  ::  ../03_VARS_DATA\\SS.csv\n",
      "     TCOLI  ::  ../03_VARS_DATA\\TCOLI.csv\n",
      "      TEMP  ::  ../03_VARS_DATA\\TEMP.csv\n",
      "        TN  ::  ../03_VARS_DATA\\TN.csv\n",
      "       TOC  ::  ../03_VARS_DATA\\TOC.csv\n",
      "        TP  ::  ../03_VARS_DATA\\TP.csv\n",
      "        WL  ::  ../03_VARS_DATA\\WL.csv\n",
      "    WV_Ave  ::  ../03_VARS_DATA\\WV_Ave.csv\n",
      "    WV_Max  ::  ../03_VARS_DATA\\WV_Max.csv\n",
      "WV_Max_Vec  ::  ../03_VARS_DATA\\WV_Max_Vec.csv\n"
     ]
    }
   ],
   "source": [
    "all_time_kmean_rst = {}\n",
    "\n",
    "for path in data_list:\n",
    "    var_nm = path.split('\\\\')[-1].split('.')[0]\n",
    "    print('%10s'%var_nm, ' :: ', path)\n",
    "    data = pd.read_csv(path, parse_dates=['Date'], index_col=0).dropna(axis=0)\n",
    "    \n",
    "    dtw_rst  = get_dtw(data, 'DTW', variable_nms=var_nm)\n",
    "    sdtw_rst = get_dtw(data, 'SOFT_DTW', variable_nms=var_nm)\n",
    "    \n",
    "    # dtw_con  = dtw_rst.append([dtw_rst, soft_dtw])\n",
    "\n",
    "#     t_km_rst = []\n",
    "#     for i in range(1,9):\n",
    "#         model = TimeSeriesKMeans(n_clusters=i, metric=\"dtw\", max_iter=10)\n",
    "#         model.fit(data)\n",
    "#         print(i, ':: ', f'Inertia: {model.inertia_}')\n",
    "#         t_km_rst.append(model.inertia_)\n",
    "\n",
    "#     all_time_kmean_rst[var_nm] = t_km_rst\n"
   ]
  },
  {
   "cell_type": "code",
   "execution_count": 83,
   "id": "77d26a3d-7340-4565-be27-6fe70e606f50",
   "metadata": {},
   "outputs": [
    {
     "data": {
      "text/html": [
       "<div>\n",
       "<style scoped>\n",
       "    .dataframe tbody tr th:only-of-type {\n",
       "        vertical-align: middle;\n",
       "    }\n",
       "\n",
       "    .dataframe tbody tr th {\n",
       "        vertical-align: top;\n",
       "    }\n",
       "\n",
       "    .dataframe thead th {\n",
       "        text-align: right;\n",
       "    }\n",
       "</style>\n",
       "<table border=\"1\" class=\"dataframe\">\n",
       "  <thead>\n",
       "    <tr style=\"text-align: right;\">\n",
       "      <th></th>\n",
       "      <th></th>\n",
       "      <th></th>\n",
       "      <th>chilgok</th>\n",
       "      <th>dalsung</th>\n",
       "      <th>goryeong</th>\n",
       "      <th>gumi</th>\n",
       "      <th>haman</th>\n",
       "      <th>hapcheon</th>\n",
       "      <th>nakdan</th>\n",
       "      <th>sangju</th>\n",
       "    </tr>\n",
       "  </thead>\n",
       "  <tbody>\n",
       "    <tr>\n",
       "      <th rowspan=\"8\" valign=\"top\">AT</th>\n",
       "      <th rowspan=\"8\" valign=\"top\">DTW</th>\n",
       "      <th>chilgok</th>\n",
       "      <td>0.000000</td>\n",
       "      <td>816.852000</td>\n",
       "      <td>784.381291</td>\n",
       "      <td>1329.868704</td>\n",
       "      <td>1266.122609</td>\n",
       "      <td>1281.535524</td>\n",
       "      <td>725.154584</td>\n",
       "      <td>684.153082</td>\n",
       "    </tr>\n",
       "    <tr>\n",
       "      <th>dalsung</th>\n",
       "      <td>816.852000</td>\n",
       "      <td>0.000000</td>\n",
       "      <td>182.906588</td>\n",
       "      <td>901.973514</td>\n",
       "      <td>912.095412</td>\n",
       "      <td>899.695226</td>\n",
       "      <td>1044.510661</td>\n",
       "      <td>1024.984439</td>\n",
       "    </tr>\n",
       "    <tr>\n",
       "      <th>goryeong</th>\n",
       "      <td>784.381291</td>\n",
       "      <td>182.906588</td>\n",
       "      <td>0.000000</td>\n",
       "      <td>902.673679</td>\n",
       "      <td>918.320331</td>\n",
       "      <td>911.839575</td>\n",
       "      <td>1052.984012</td>\n",
       "      <td>1027.412493</td>\n",
       "    </tr>\n",
       "    <tr>\n",
       "      <th>gumi</th>\n",
       "      <td>1329.868704</td>\n",
       "      <td>901.973514</td>\n",
       "      <td>902.673679</td>\n",
       "      <td>0.000000</td>\n",
       "      <td>352.945562</td>\n",
       "      <td>252.119376</td>\n",
       "      <td>1196.452983</td>\n",
       "      <td>1204.613577</td>\n",
       "    </tr>\n",
       "    <tr>\n",
       "      <th>haman</th>\n",
       "      <td>1266.122609</td>\n",
       "      <td>912.095412</td>\n",
       "      <td>918.320331</td>\n",
       "      <td>352.945562</td>\n",
       "      <td>0.000000</td>\n",
       "      <td>273.977554</td>\n",
       "      <td>1157.235093</td>\n",
       "      <td>1143.241020</td>\n",
       "    </tr>\n",
       "    <tr>\n",
       "      <th>hapcheon</th>\n",
       "      <td>1281.535524</td>\n",
       "      <td>899.695226</td>\n",
       "      <td>911.839575</td>\n",
       "      <td>252.119376</td>\n",
       "      <td>273.977554</td>\n",
       "      <td>0.000000</td>\n",
       "      <td>1181.404533</td>\n",
       "      <td>1167.513567</td>\n",
       "    </tr>\n",
       "    <tr>\n",
       "      <th>nakdan</th>\n",
       "      <td>725.154584</td>\n",
       "      <td>1044.510661</td>\n",
       "      <td>1052.984012</td>\n",
       "      <td>1196.452983</td>\n",
       "      <td>1157.235093</td>\n",
       "      <td>1181.404533</td>\n",
       "      <td>0.000000</td>\n",
       "      <td>104.598231</td>\n",
       "    </tr>\n",
       "    <tr>\n",
       "      <th>sangju</th>\n",
       "      <td>684.153082</td>\n",
       "      <td>1024.984439</td>\n",
       "      <td>1027.412493</td>\n",
       "      <td>1204.613577</td>\n",
       "      <td>1143.241020</td>\n",
       "      <td>1167.513567</td>\n",
       "      <td>104.598231</td>\n",
       "      <td>0.000000</td>\n",
       "    </tr>\n",
       "  </tbody>\n",
       "</table>\n",
       "</div>"
      ],
      "text/plain": [
       "                     chilgok      dalsung     goryeong         gumi  \\\n",
       "AT DTW chilgok      0.000000   816.852000   784.381291  1329.868704   \n",
       "       dalsung    816.852000     0.000000   182.906588   901.973514   \n",
       "       goryeong   784.381291   182.906588     0.000000   902.673679   \n",
       "       gumi      1329.868704   901.973514   902.673679     0.000000   \n",
       "       haman     1266.122609   912.095412   918.320331   352.945562   \n",
       "       hapcheon  1281.535524   899.695226   911.839575   252.119376   \n",
       "       nakdan     725.154584  1044.510661  1052.984012  1196.452983   \n",
       "       sangju     684.153082  1024.984439  1027.412493  1204.613577   \n",
       "\n",
       "                       haman     hapcheon       nakdan       sangju  \n",
       "AT DTW chilgok   1266.122609  1281.535524   725.154584   684.153082  \n",
       "       dalsung    912.095412   899.695226  1044.510661  1024.984439  \n",
       "       goryeong   918.320331   911.839575  1052.984012  1027.412493  \n",
       "       gumi       352.945562   252.119376  1196.452983  1204.613577  \n",
       "       haman        0.000000   273.977554  1157.235093  1143.241020  \n",
       "       hapcheon   273.977554     0.000000  1181.404533  1167.513567  \n",
       "       nakdan    1157.235093  1181.404533     0.000000   104.598231  \n",
       "       sangju    1143.241020  1167.513567   104.598231     0.000000  "
      ]
     },
     "execution_count": 83,
     "metadata": {},
     "output_type": "execute_result"
    }
   ],
   "source": [
    "dtw_rst"
   ]
  },
  {
   "cell_type": "code",
   "execution_count": 82,
   "id": "7b5d229c-f541-401a-ba74-3c111e2a7903",
   "metadata": {},
   "outputs": [
    {
     "ename": "TypeError",
     "evalue": "cannot concatenate object of type '<class 'function'>'; only Series and DataFrame objs are valid",
     "output_type": "error",
     "traceback": [
      "\u001b[1;31m---------------------------------------------------------------------------\u001b[0m",
      "\u001b[1;31mTypeError\u001b[0m                                 Traceback (most recent call last)",
      "\u001b[1;32m~\\AppData\\Local\\Temp/ipykernel_28956/2916790045.py\u001b[0m in \u001b[0;36m<module>\u001b[1;34m\u001b[0m\n\u001b[1;32m----> 1\u001b[1;33m \u001b[0mdtw_rst\u001b[0m\u001b[1;33m.\u001b[0m\u001b[0mappend\u001b[0m\u001b[1;33m(\u001b[0m\u001b[0msoft_dtw\u001b[0m\u001b[1;33m)\u001b[0m\u001b[1;33m\u001b[0m\u001b[1;33m\u001b[0m\u001b[0m\n\u001b[0m",
      "\u001b[1;32m~\\anaconda3\\lib\\site-packages\\pandas\\core\\frame.py\u001b[0m in \u001b[0;36mappend\u001b[1;34m(self, other, ignore_index, verify_integrity, sort)\u001b[0m\n\u001b[0;32m   8963\u001b[0m             \u001b[0mto_concat\u001b[0m \u001b[1;33m=\u001b[0m \u001b[1;33m[\u001b[0m\u001b[0mself\u001b[0m\u001b[1;33m,\u001b[0m \u001b[0mother\u001b[0m\u001b[1;33m]\u001b[0m\u001b[1;33m\u001b[0m\u001b[1;33m\u001b[0m\u001b[0m\n\u001b[0;32m   8964\u001b[0m         return (\n\u001b[1;32m-> 8965\u001b[1;33m             concat(\n\u001b[0m\u001b[0;32m   8966\u001b[0m                 \u001b[0mto_concat\u001b[0m\u001b[1;33m,\u001b[0m\u001b[1;33m\u001b[0m\u001b[1;33m\u001b[0m\u001b[0m\n\u001b[0;32m   8967\u001b[0m                 \u001b[0mignore_index\u001b[0m\u001b[1;33m=\u001b[0m\u001b[0mignore_index\u001b[0m\u001b[1;33m,\u001b[0m\u001b[1;33m\u001b[0m\u001b[1;33m\u001b[0m\u001b[0m\n",
      "\u001b[1;32m~\\anaconda3\\lib\\site-packages\\pandas\\util\\_decorators.py\u001b[0m in \u001b[0;36mwrapper\u001b[1;34m(*args, **kwargs)\u001b[0m\n\u001b[0;32m    309\u001b[0m                     \u001b[0mstacklevel\u001b[0m\u001b[1;33m=\u001b[0m\u001b[0mstacklevel\u001b[0m\u001b[1;33m,\u001b[0m\u001b[1;33m\u001b[0m\u001b[1;33m\u001b[0m\u001b[0m\n\u001b[0;32m    310\u001b[0m                 )\n\u001b[1;32m--> 311\u001b[1;33m             \u001b[1;32mreturn\u001b[0m \u001b[0mfunc\u001b[0m\u001b[1;33m(\u001b[0m\u001b[1;33m*\u001b[0m\u001b[0margs\u001b[0m\u001b[1;33m,\u001b[0m \u001b[1;33m**\u001b[0m\u001b[0mkwargs\u001b[0m\u001b[1;33m)\u001b[0m\u001b[1;33m\u001b[0m\u001b[1;33m\u001b[0m\u001b[0m\n\u001b[0m\u001b[0;32m    312\u001b[0m \u001b[1;33m\u001b[0m\u001b[0m\n\u001b[0;32m    313\u001b[0m         \u001b[1;32mreturn\u001b[0m \u001b[0mwrapper\u001b[0m\u001b[1;33m\u001b[0m\u001b[1;33m\u001b[0m\u001b[0m\n",
      "\u001b[1;32m~\\anaconda3\\lib\\site-packages\\pandas\\core\\reshape\\concat.py\u001b[0m in \u001b[0;36mconcat\u001b[1;34m(objs, axis, join, ignore_index, keys, levels, names, verify_integrity, sort, copy)\u001b[0m\n\u001b[0;32m    292\u001b[0m     \u001b[0mValueError\u001b[0m\u001b[1;33m:\u001b[0m \u001b[0mIndexes\u001b[0m \u001b[0mhave\u001b[0m \u001b[0moverlapping\u001b[0m \u001b[0mvalues\u001b[0m\u001b[1;33m:\u001b[0m \u001b[1;33m[\u001b[0m\u001b[1;34m'a'\u001b[0m\u001b[1;33m]\u001b[0m\u001b[1;33m\u001b[0m\u001b[1;33m\u001b[0m\u001b[0m\n\u001b[0;32m    293\u001b[0m     \"\"\"\n\u001b[1;32m--> 294\u001b[1;33m     op = _Concatenator(\n\u001b[0m\u001b[0;32m    295\u001b[0m         \u001b[0mobjs\u001b[0m\u001b[1;33m,\u001b[0m\u001b[1;33m\u001b[0m\u001b[1;33m\u001b[0m\u001b[0m\n\u001b[0;32m    296\u001b[0m         \u001b[0maxis\u001b[0m\u001b[1;33m=\u001b[0m\u001b[0maxis\u001b[0m\u001b[1;33m,\u001b[0m\u001b[1;33m\u001b[0m\u001b[1;33m\u001b[0m\u001b[0m\n",
      "\u001b[1;32m~\\anaconda3\\lib\\site-packages\\pandas\\core\\reshape\\concat.py\u001b[0m in \u001b[0;36m__init__\u001b[1;34m(self, objs, axis, join, keys, levels, names, ignore_index, verify_integrity, copy, sort)\u001b[0m\n\u001b[0;32m    382\u001b[0m                     \u001b[1;34m\"only Series and DataFrame objs are valid\"\u001b[0m\u001b[1;33m\u001b[0m\u001b[1;33m\u001b[0m\u001b[0m\n\u001b[0;32m    383\u001b[0m                 )\n\u001b[1;32m--> 384\u001b[1;33m                 \u001b[1;32mraise\u001b[0m \u001b[0mTypeError\u001b[0m\u001b[1;33m(\u001b[0m\u001b[0mmsg\u001b[0m\u001b[1;33m)\u001b[0m\u001b[1;33m\u001b[0m\u001b[1;33m\u001b[0m\u001b[0m\n\u001b[0m\u001b[0;32m    385\u001b[0m \u001b[1;33m\u001b[0m\u001b[0m\n\u001b[0;32m    386\u001b[0m             \u001b[0mndims\u001b[0m\u001b[1;33m.\u001b[0m\u001b[0madd\u001b[0m\u001b[1;33m(\u001b[0m\u001b[0mobj\u001b[0m\u001b[1;33m.\u001b[0m\u001b[0mndim\u001b[0m\u001b[1;33m)\u001b[0m\u001b[1;33m\u001b[0m\u001b[1;33m\u001b[0m\u001b[0m\n",
      "\u001b[1;31mTypeError\u001b[0m: cannot concatenate object of type '<class 'function'>'; only Series and DataFrame objs are valid"
     ]
    }
   ],
   "source": [
    "dtw_rst.append(soft_dtw)"
   ]
  },
  {
   "cell_type": "code",
   "execution_count": 72,
   "id": "97d683f0-f7f8-4b2d-992b-3f268e0d220d",
   "metadata": {},
   "outputs": [
    {
     "ename": "TypeError",
     "evalue": "Can only merge Series or DataFrame objects, a <class 'list'> was passed",
     "output_type": "error",
     "traceback": [
      "\u001b[1;31m---------------------------------------------------------------------------\u001b[0m",
      "\u001b[1;31mTypeError\u001b[0m                                 Traceback (most recent call last)",
      "\u001b[1;32m~\\AppData\\Local\\Temp/ipykernel_28956/2698434038.py\u001b[0m in \u001b[0;36m<module>\u001b[1;34m\u001b[0m\n\u001b[1;32m----> 1\u001b[1;33m \u001b[0msdtw_rst\u001b[0m\u001b[1;33m.\u001b[0m\u001b[0mmerge\u001b[0m\u001b[1;33m(\u001b[0m\u001b[1;33m[\u001b[0m\u001b[0mdtw_rst\u001b[0m\u001b[1;33m,\u001b[0m \u001b[0mdtw_rst\u001b[0m\u001b[1;33m]\u001b[0m\u001b[1;33m)\u001b[0m\u001b[1;33m\u001b[0m\u001b[1;33m\u001b[0m\u001b[0m\n\u001b[0m",
      "\u001b[1;32m~\\anaconda3\\lib\\site-packages\\pandas\\core\\frame.py\u001b[0m in \u001b[0;36mmerge\u001b[1;34m(self, right, how, on, left_on, right_on, left_index, right_index, sort, suffixes, copy, indicator, validate)\u001b[0m\n\u001b[0;32m   9188\u001b[0m         \u001b[1;32mfrom\u001b[0m \u001b[0mpandas\u001b[0m\u001b[1;33m.\u001b[0m\u001b[0mcore\u001b[0m\u001b[1;33m.\u001b[0m\u001b[0mreshape\u001b[0m\u001b[1;33m.\u001b[0m\u001b[0mmerge\u001b[0m \u001b[1;32mimport\u001b[0m \u001b[0mmerge\u001b[0m\u001b[1;33m\u001b[0m\u001b[1;33m\u001b[0m\u001b[0m\n\u001b[0;32m   9189\u001b[0m \u001b[1;33m\u001b[0m\u001b[0m\n\u001b[1;32m-> 9190\u001b[1;33m         return merge(\n\u001b[0m\u001b[0;32m   9191\u001b[0m             \u001b[0mself\u001b[0m\u001b[1;33m,\u001b[0m\u001b[1;33m\u001b[0m\u001b[1;33m\u001b[0m\u001b[0m\n\u001b[0;32m   9192\u001b[0m             \u001b[0mright\u001b[0m\u001b[1;33m,\u001b[0m\u001b[1;33m\u001b[0m\u001b[1;33m\u001b[0m\u001b[0m\n",
      "\u001b[1;32m~\\anaconda3\\lib\\site-packages\\pandas\\core\\reshape\\merge.py\u001b[0m in \u001b[0;36mmerge\u001b[1;34m(left, right, how, on, left_on, right_on, left_index, right_index, sort, suffixes, copy, indicator, validate)\u001b[0m\n\u001b[0;32m    104\u001b[0m     \u001b[0mvalidate\u001b[0m\u001b[1;33m:\u001b[0m \u001b[0mstr\u001b[0m \u001b[1;33m|\u001b[0m \u001b[1;32mNone\u001b[0m \u001b[1;33m=\u001b[0m \u001b[1;32mNone\u001b[0m\u001b[1;33m,\u001b[0m\u001b[1;33m\u001b[0m\u001b[1;33m\u001b[0m\u001b[0m\n\u001b[0;32m    105\u001b[0m ) -> DataFrame:\n\u001b[1;32m--> 106\u001b[1;33m     op = _MergeOperation(\n\u001b[0m\u001b[0;32m    107\u001b[0m         \u001b[0mleft\u001b[0m\u001b[1;33m,\u001b[0m\u001b[1;33m\u001b[0m\u001b[1;33m\u001b[0m\u001b[0m\n\u001b[0;32m    108\u001b[0m         \u001b[0mright\u001b[0m\u001b[1;33m,\u001b[0m\u001b[1;33m\u001b[0m\u001b[1;33m\u001b[0m\u001b[0m\n",
      "\u001b[1;32m~\\anaconda3\\lib\\site-packages\\pandas\\core\\reshape\\merge.py\u001b[0m in \u001b[0;36m__init__\u001b[1;34m(self, left, right, how, on, left_on, right_on, axis, left_index, right_index, sort, suffixes, copy, indicator, validate)\u001b[0m\n\u001b[0;32m    626\u001b[0m     ):\n\u001b[0;32m    627\u001b[0m         \u001b[0m_left\u001b[0m \u001b[1;33m=\u001b[0m \u001b[0m_validate_operand\u001b[0m\u001b[1;33m(\u001b[0m\u001b[0mleft\u001b[0m\u001b[1;33m)\u001b[0m\u001b[1;33m\u001b[0m\u001b[1;33m\u001b[0m\u001b[0m\n\u001b[1;32m--> 628\u001b[1;33m         \u001b[0m_right\u001b[0m \u001b[1;33m=\u001b[0m \u001b[0m_validate_operand\u001b[0m\u001b[1;33m(\u001b[0m\u001b[0mright\u001b[0m\u001b[1;33m)\u001b[0m\u001b[1;33m\u001b[0m\u001b[1;33m\u001b[0m\u001b[0m\n\u001b[0m\u001b[0;32m    629\u001b[0m         \u001b[0mself\u001b[0m\u001b[1;33m.\u001b[0m\u001b[0mleft\u001b[0m \u001b[1;33m=\u001b[0m \u001b[0mself\u001b[0m\u001b[1;33m.\u001b[0m\u001b[0morig_left\u001b[0m \u001b[1;33m=\u001b[0m \u001b[0m_left\u001b[0m\u001b[1;33m\u001b[0m\u001b[1;33m\u001b[0m\u001b[0m\n\u001b[0;32m    630\u001b[0m         \u001b[0mself\u001b[0m\u001b[1;33m.\u001b[0m\u001b[0mright\u001b[0m \u001b[1;33m=\u001b[0m \u001b[0mself\u001b[0m\u001b[1;33m.\u001b[0m\u001b[0morig_right\u001b[0m \u001b[1;33m=\u001b[0m \u001b[0m_right\u001b[0m\u001b[1;33m\u001b[0m\u001b[1;33m\u001b[0m\u001b[0m\n",
      "\u001b[1;32m~\\anaconda3\\lib\\site-packages\\pandas\\core\\reshape\\merge.py\u001b[0m in \u001b[0;36m_validate_operand\u001b[1;34m(obj)\u001b[0m\n\u001b[0;32m   2274\u001b[0m             \u001b[1;32mreturn\u001b[0m \u001b[0mobj\u001b[0m\u001b[1;33m.\u001b[0m\u001b[0mto_frame\u001b[0m\u001b[1;33m(\u001b[0m\u001b[1;33m)\u001b[0m\u001b[1;33m\u001b[0m\u001b[1;33m\u001b[0m\u001b[0m\n\u001b[0;32m   2275\u001b[0m     \u001b[1;32melse\u001b[0m\u001b[1;33m:\u001b[0m\u001b[1;33m\u001b[0m\u001b[1;33m\u001b[0m\u001b[0m\n\u001b[1;32m-> 2276\u001b[1;33m         raise TypeError(\n\u001b[0m\u001b[0;32m   2277\u001b[0m             \u001b[1;34mf\"Can only merge Series or DataFrame objects, a {type(obj)} was passed\"\u001b[0m\u001b[1;33m\u001b[0m\u001b[1;33m\u001b[0m\u001b[0m\n\u001b[0;32m   2278\u001b[0m         )\n",
      "\u001b[1;31mTypeError\u001b[0m: Can only merge Series or DataFrame objects, a <class 'list'> was passed"
     ]
    }
   ],
   "source": [
    "pd.concat"
   ]
  },
  {
   "cell_type": "code",
   "execution_count": 66,
   "id": "3218d735-f0ef-439a-aa98-cd4355700d00",
   "metadata": {},
   "outputs": [
    {
     "name": "stdout",
     "output_type": "stream",
     "text": [
      "1 ::  Inertia: 404796.63077182346\n",
      "2 ::  Inertia: 134778.688253749\n",
      "3 ::  Inertia: 84912.56973088846\n",
      "4 ::  Inertia: 51049.66539980227\n",
      "5 ::  Inertia: 34675.60191441064\n",
      "6 ::  Inertia: 27863.018681054073\n",
      "7 ::  Inertia: 21064.22728133489\n",
      "8 ::  Inertia: 14817.847040991557\n"
     ]
    }
   ],
   "source": [
    "all_time_kmean_rst = {}\n",
    "\n",
    "t_km_rst = []\n",
    "for i in range(1,9):\n",
    "    model = TimeSeriesKMeans(n_clusters=i, metric=\"dtw\", max_iter=10)\n",
    "    model.fit(data)\n",
    "    print(i, ':: ', f'Inertia: {model.inertia_}')\n",
    "    t_km_rst.append(model.inertia_)\n",
    "\n",
    "all_time_kmean_rst[var_nm] = t_km_rst\n"
   ]
  },
  {
   "cell_type": "code",
   "execution_count": 67,
   "id": "90ecda29-2e09-4455-8ab7-a8554c05a0ea",
   "metadata": {},
   "outputs": [
    {
     "data": {
      "text/plain": [
       "{'AT': [404796.63077182346,\n",
       "  134778.688253749,\n",
       "  84912.56973088846,\n",
       "  51049.66539980227,\n",
       "  34675.60191441064,\n",
       "  27863.018681054073,\n",
       "  21064.22728133489,\n",
       "  14817.847040991557]}"
      ]
     },
     "execution_count": 67,
     "metadata": {},
     "output_type": "execute_result"
    }
   ],
   "source": [
    "all_time_kmean_rst"
   ]
  },
  {
   "cell_type": "code",
   "execution_count": 65,
   "id": "0f52c2e4-fc12-46c0-a334-ada90bc0c67f",
   "metadata": {},
   "outputs": [
    {
     "data": {
      "text/plain": [
       "2240030.2757235025"
      ]
     },
     "execution_count": 65,
     "metadata": {},
     "output_type": "execute_result"
    }
   ],
   "source": [
    "model.inertia_"
   ]
  },
  {
   "cell_type": "code",
   "execution_count": 54,
   "id": "91961d59-57ca-4849-9dd1-e5d66138bd96",
   "metadata": {},
   "outputs": [
    {
     "data": {
      "text/plain": [
       "22085971.879195392"
      ]
     },
     "execution_count": 54,
     "metadata": {},
     "output_type": "execute_result"
    }
   ],
   "source": [
    "model.inertia_"
   ]
  },
  {
   "cell_type": "code",
   "execution_count": 55,
   "id": "6e56ce50-110a-4ae2-8df2-64212ae7460b",
   "metadata": {},
   "outputs": [
    {
     "name": "stdout",
     "output_type": "stream",
     "text": [
      "cluster_center [[[3038.24910714]\n",
      "  [3765.05243902]\n",
      "  [3793.36411765]\n",
      "  [5029.09259259]\n",
      "  [4199.93478261]\n",
      "  [4208.27515528]\n",
      "  [5686.13553459]\n",
      "  [3365.00954357]]]\n"
     ]
    }
   ],
   "source": [
    "print(f'cluster_center {model.cluster_centers_}')"
   ]
  },
  {
   "cell_type": "code",
   "execution_count": null,
   "id": "04f10446-023f-4dfb-9e3d-e9fabd3dac3d",
   "metadata": {},
   "outputs": [],
   "source": []
  }
 ],
 "metadata": {
  "kernelspec": {
   "display_name": "Python 3 (ipykernel)",
   "language": "python",
   "name": "python3"
  },
  "language_info": {
   "codemirror_mode": {
    "name": "ipython",
    "version": 3
   },
   "file_extension": ".py",
   "mimetype": "text/x-python",
   "name": "python",
   "nbconvert_exporter": "python",
   "pygments_lexer": "ipython3",
   "version": "3.9.12"
  }
 },
 "nbformat": 4,
 "nbformat_minor": 5
}
