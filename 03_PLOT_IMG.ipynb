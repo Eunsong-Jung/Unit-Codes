{
 "cells": [
  {
   "cell_type": "code",
   "execution_count": 1,
   "id": "857e1c1b-25c8-4280-95bf-ccbb3a7301a2",
   "metadata": {},
   "outputs": [],
   "source": [
    "import pandas as pd, numpy as np, glob, datetime\n",
    "\n",
    "import os, math\n",
    "import pandas as pd, glob, numpy as np\n",
    "import matplotlib.pyplot as plt"
   ]
  },
  {
   "cell_type": "code",
   "execution_count": 2,
   "id": "325af261-0641-47d5-95ce-fb6623a855eb",
   "metadata": {},
   "outputs": [],
   "source": [
    "data_list = glob.glob('../02_POINT_DATA/*.csv')"
   ]
  },
  {
   "cell_type": "code",
   "execution_count": 4,
   "id": "8c5ea7ff-2112-4027-bb1a-54fcc281e22c",
   "metadata": {},
   "outputs": [],
   "source": [
    "def plot_ts_all(in_df, site_nm):\n",
    "  \n",
    "    fig, axs = plt.subplots(6,5,figsize=(25,30))\n",
    "    fig.suptitle('Series')\n",
    "    \n",
    "    j, k = 0, 0\n",
    "    for i in range(1, len(in_df.columns)+1):\n",
    "        axs[k, j].plot(in_df[in_df.columns[i-1]].values)\n",
    "        axs[k, j].set_title(in_df.columns[i-1])        \n",
    "        \n",
    "        j += 1\n",
    "        if i % 5 == 0:\n",
    "            j = 0; k += 1\n",
    "            \n",
    "    # plt.show()\n",
    "    plt.savefig('../04_IMG_POINT_VARS/%s.png'%site_nm)\n",
    "    plt.close()"
   ]
  },
  {
   "cell_type": "code",
   "execution_count": 5,
   "id": "a6ec5224-ee46-4bbe-90ef-5d43963b4df0",
   "metadata": {},
   "outputs": [],
   "source": [
    "for path in data_list:\n",
    "    site_nm = path.split('\\\\')[-1].split('.')[0]\n",
    "    data = pd.read_csv(path, parse_dates=['Date'], index_col=0).dropna(axis=0)\n",
    "    plot_ts_all(data, site_nm=site_nm)"
   ]
  },
  {
   "cell_type": "code",
   "execution_count": null,
   "id": "a2e2c491-e450-43cc-9cd8-b4ce3970a7aa",
   "metadata": {},
   "outputs": [],
   "source": []
  }
 ],
 "metadata": {
  "kernelspec": {
   "display_name": "Python 3 (ipykernel)",
   "language": "python",
   "name": "python3"
  },
  "language_info": {
   "codemirror_mode": {
    "name": "ipython",
    "version": 3
   },
   "file_extension": ".py",
   "mimetype": "text/x-python",
   "name": "python",
   "nbconvert_exporter": "python",
   "pygments_lexer": "ipython3",
   "version": "3.9.12"
  }
 },
 "nbformat": 4,
 "nbformat_minor": 5
}
