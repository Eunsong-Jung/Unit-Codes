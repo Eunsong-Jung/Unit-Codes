{
 "cells": [
  {
   "cell_type": "code",
   "execution_count": 1,
   "id": "b3308d18-7b1f-416e-812a-b442a8060319",
   "metadata": {},
   "outputs": [],
   "source": [
    "import pandas as pd, numpy as np, glob, datetime"
   ]
  },
  {
   "cell_type": "code",
   "execution_count": 67,
   "id": "cde870ba-2f41-4018-ad4b-36b6c43f769b",
   "metadata": {},
   "outputs": [],
   "source": [
    "import os, math\n",
    "import pandas as pd, glob, numpy as np\n",
    "import matplotlib.pyplot as plt\n",
    "\n",
    "# Preprocessing\n",
    "from sklearn.preprocessing import MinMaxScaler\n",
    "\n",
    "# Algorithms\n",
    "from minisom import MiniSom\n",
    "from tslearn.barycenters import dtw_barycenter_averaging\n",
    "from tslearn.clustering import TimeSeriesKMeans\n",
    "from sklearn.cluster import KMeans\n",
    "from sklearn.decomposition import PCA\n",
    "from tslearn.metrics import dtw\n",
    "from tslearn.metrics import soft_dtw"
   ]
  },
  {
   "cell_type": "code",
   "execution_count": null,
   "id": "fd0b9c6a-1c7c-4422-99ed-e2f3e7e38a97",
   "metadata": {},
   "outputs": [],
   "source": [
    "data_list = glob.glob('../02_POINT_DATA/*.csv')"
   ]
  },
  {
   "cell_type": "code",
   "execution_count": 69,
   "id": "ab293e59-34c0-45f6-b04e-854e6407fa7c",
   "metadata": {},
   "outputs": [],
   "source": [
    "ref_data = pd.read_csv(data_list[0], parse_dates=['Date'], index_col=0)\n",
    "# print(data.columns, len(data.columns))\n",
    "target_vars = data.columns"
   ]
  },
  {
   "cell_type": "code",
   "execution_count": 50,
   "id": "71a421a8-a62e-4323-b86d-7879018f0413",
   "metadata": {},
   "outputs": [],
   "source": [
    "def plot_ts_all(in_df, site_nm):\n",
    "  \n",
    "    fig, axs = plt.subplots(6,5,figsize=(25,30))\n",
    "    fig.suptitle('Series')\n",
    "    \n",
    "    j, k = 0, 0\n",
    "    for i in range(1, len(in_df.columns)+1):\n",
    "        axs[k, j].plot(in_df[in_df.columns[i-1]].values)\n",
    "        axs[k, j].set_title(in_df.columns[i-1])        \n",
    "        \n",
    "        j += 1\n",
    "        if i % 5 == 0:\n",
    "            j = 0; k += 1\n",
    "            \n",
    "    # plt.show()\n",
    "    plt.savefig('../02_POINT_DATA/%s.png'%site_nm)\n",
    "    plt.close()"
   ]
  },
  {
   "cell_type": "code",
   "execution_count": null,
   "id": "9073d28f-846c-48d1-b974-5f96fadaf329",
   "metadata": {},
   "outputs": [],
   "source": []
  },
  {
   "cell_type": "code",
   "execution_count": 92,
   "id": "4ae8e5ea-0774-48ca-86fe-05cfa404bd53",
   "metadata": {},
   "outputs": [],
   "source": [
    "data_list = glob.glob('../02_POINT_DATA/*.csv')\n",
    "\n",
    "# 동일변수에 대해서 각 관측소별 클러스터링 테스트를 위한 데이터 전처리\n",
    "\n",
    "for var_ in target_vars:\n",
    "    var_s_box = []\n",
    "    \n",
    "    for path in data_list:\n",
    "        site_nm = path.split('\\\\')[-1].split('.')[0]\n",
    "        data = pd.read_csv(path, parse_dates=['Date'], index_col=0).dropna(axis=0)\n",
    "        var_s_box.append(pd.Series(data[var_], name='%s_%s'%(var_, site_nm)))\n",
    "    \n",
    "    var_s_df = pd.concat(var_s_box, axis=1)\n",
    "    var_s_df.to_csv('../03_VARS_DATA/%s.csv'%var_)\n"
   ]
  },
  {
   "cell_type": "code",
   "execution_count": null,
   "id": "eeb54312-3b0b-4fbe-9bb6-40f5ec551f85",
   "metadata": {},
   "outputs": [],
   "source": []
  }
 ],
 "metadata": {
  "kernelspec": {
   "display_name": "Python 3 (ipykernel)",
   "language": "python",
   "name": "python3"
  },
  "language_info": {
   "codemirror_mode": {
    "name": "ipython",
    "version": 3
   },
   "file_extension": ".py",
   "mimetype": "text/x-python",
   "name": "python",
   "nbconvert_exporter": "python",
   "pygments_lexer": "ipython3",
   "version": "3.9.12"
  },
  "vscode": {
   "interpreter": {
    "hash": "369f2c481f4da34e4445cda3fffd2e751bd1c4d706f27375911949ba6bb62e1c"
   }
  }
 },
 "nbformat": 4,
 "nbformat_minor": 5
}
